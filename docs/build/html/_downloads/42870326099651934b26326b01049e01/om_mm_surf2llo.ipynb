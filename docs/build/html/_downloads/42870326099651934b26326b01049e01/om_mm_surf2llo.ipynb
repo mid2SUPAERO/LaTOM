{
  "cells": [
    {
      "cell_type": "code",
      "execution_count": null,
      "metadata": {
        "collapsed": false
      },
      "outputs": [],
      "source": [
        "%matplotlib inline"
      ]
    },
    {
      "cell_type": "markdown",
      "metadata": {},
      "source": [
        "\nOpenMDAO MetaModel for Moon to LLO and LLO to Moon transfers\n============================================================\n\nThis example computes the sampling grid and training points to assemble an OpenMDAO MetaModel for a Moon to LLO or LLO\nto Moon transfer with constant or variable thrust and optional minimum safe altitude.\n\n@authors: Alberto FOSSA' Giuliana Elena MICELI\n"
      ]
    },
    {
      "cell_type": "code",
      "execution_count": null,
      "metadata": {
        "collapsed": false
      },
      "outputs": [],
      "source": [
        "from latom.surrogate.om_metamodels import *\nfrom latom.utils.primary import Moon\n\n\n# MetaModel settings\ndistributed = False  # variables distributed across multiple processes\nextrapolate = False  # extrapolation for out-of-bounds inputs\ninterp_method = 'slinear'  # interpolation method\ntraining_data_gradients = True  # compute gradients wrt output training data\nvec_size = 1  # number of points to evaluate at once\nnb_samp = (2, 2)  # number of samples on which the actual solution is computed\nrec_file = 'example.pkl'  # name of the file in latom.data.metamodels in which the solution is serialized\n\n# transfer type among the followings:\n# ac: ascent constant, av: ascent variable, as: ascent vertical takeoff\n# dc: descent constant, dv: descent variable, ds: descent vertical landing, d2p: two-phases descent vertical landing\nkind = 'ac'\n\nmoon = Moon()  # central attracting body\n\n# trajectory\nalt = 100e3  # final orbit altitude [m]\nalt_p = 15e3  # periselene altitude [m]\nalt_safe = 4e3  # minimum safe altitude or switch altitude [m]\nslope = 10.  # slope of the constraint on minimum safe altitude [-]\ntheta = np.pi  # guessed spawn angle [rad]\ntof = (1000., 100.)  # guessed time of flight [s]\nt_bounds = (0., 2.)  # time of flight bounds [-]\nfix = 'alt'  # fixed parameter at phase switch between alt or time\n\n# grid limits\nisp = [250., 350.]  # specific impulse [s]\ntwr = [0.5, 2.0]  # initial thrust/weight ratio [-]\n\n# NLP\nmethod = 'gauss-lobatto'\nsegments = (100, 20)\norder = 3\nsolver = 'IPOPT'\nsnopt_opts = {'Major feasibility tolerance': 1e-12, 'Major optimality tolerance': 1e-12,\n              'Minor feasibility tolerance': 1e-12}\n\nif kind == 'ac':\n    a = TwoDimAscConstMetaModel(distributed=distributed, extrapolate=extrapolate, method=interp_method,\n                                training_data_gradients=training_data_gradients, vec_size=vec_size)\n    a.sampling(moon, twr, isp, alt, t_bounds, method, segments, order, solver, nb_samp, snopt_opts=snopt_opts,\n               rec_file=rec_file, theta=theta, tof=tof)\nelif kind == 'av':\n    a = TwoDimAscVarMetaModel(distributed=distributed, extrapolate=extrapolate, method=interp_method,\n                              training_data_gradients=training_data_gradients, vec_size=vec_size)\n    a.sampling(moon, twr, isp, alt, t_bounds, method, segments, order, solver, nb_samp, snopt_opts=snopt_opts,\n               rec_file=rec_file)\nelif kind == 'as':\n    a = TwoDimAscVToffMetaModel(distributed=distributed, extrapolate=extrapolate, method=interp_method,\n                                training_data_gradients=training_data_gradients, vec_size=vec_size)\n    a.sampling(moon, twr, isp, alt, t_bounds, method, segments, order, solver, nb_samp, snopt_opts=snopt_opts,\n               rec_file=rec_file, alt_safe=alt_safe, slope=slope)\nelif kind == 'dc':\n    a = TwoDimDescConstMetaModel(distributed=distributed, extrapolate=extrapolate, method=interp_method,\n                                 training_data_gradients=training_data_gradients, vec_size=vec_size)\n    a.sampling(moon, twr, isp, alt, t_bounds, method, segments, order, solver, nb_samp, snopt_opts=snopt_opts,\n               rec_file=rec_file, alt_p=alt_p, theta=theta, tof=tof)\nelif kind == 'dv':\n    a = TwoDimDescVarMetaModel(distributed=distributed, extrapolate=extrapolate, method=interp_method,\n                               training_data_gradients=training_data_gradients, vec_size=vec_size)\n    a.sampling(moon, twr, isp, alt, t_bounds, method, segments, order, solver, nb_samp, snopt_opts=snopt_opts,\n               rec_file=rec_file)\nelif kind == 'ds':\n    a = TwoDimDescVLandMetaModel(distributed=distributed, extrapolate=extrapolate, method=interp_method,\n                                 training_data_gradients=training_data_gradients, vec_size=vec_size)\n    a.sampling(moon, twr, isp, alt, t_bounds, method, segments, order, solver, nb_samp, snopt_opts=snopt_opts,\n               rec_file=rec_file, alt_safe=alt_safe, slope=-slope)\nelif kind == 'd2p':\n    a = TwoDimDescTwoPhasesMetaModel(distributed=distributed, extrapolate=extrapolate, method=interp_method,\n                                     training_data_gradients=training_data_gradients, vec_size=vec_size)\n    a.sampling(moon, twr, isp, alt, t_bounds, method, segments, order, solver, nb_samp, snopt_opts=snopt_opts,\n               rec_file=rec_file, alt_p=alt_p, alt_switch=alt_safe, theta=theta, tof=tof, fix=fix)\nelse:\n    raise ValueError('kind must be one between ac, av, as or dc, dv, ds, d2p')"
      ]
    }
  ],
  "metadata": {
    "kernelspec": {
      "display_name": "Python 3",
      "language": "python",
      "name": "python3"
    },
    "language_info": {
      "codemirror_mode": {
        "name": "ipython",
        "version": 3
      },
      "file_extension": ".py",
      "mimetype": "text/x-python",
      "name": "python",
      "nbconvert_exporter": "python",
      "pygments_lexer": "ipython3",
      "version": "3.7.7"
    }
  },
  "nbformat": 4,
  "nbformat_minor": 0
}
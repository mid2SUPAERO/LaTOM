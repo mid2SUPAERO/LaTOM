{
  "cells": [
    {
      "cell_type": "code",
      "execution_count": null,
      "metadata": {
        "collapsed": false
      },
      "outputs": [],
      "source": [
        "%matplotlib inline"
      ]
    },
    {
      "cell_type": "markdown",
      "metadata": {},
      "source": [
        "\nTwo-dimensional Moon to LLO transfer visualization\n==================================================\n\n@authors: Alberto FOSSA' Giuliana Elena MICELI\n"
      ]
    },
    {
      "cell_type": "code",
      "execution_count": null,
      "metadata": {
        "collapsed": false
      },
      "outputs": [],
      "source": [
        "from latom.utils.primary import Moon\nfrom latom.reader.reader_2d import TwoDimReader\n\nmoon = Moon()\n\nrec_file = '/home/alberto/Downloads/rec.sql'\nrec_file_exp = '/home/alberto/Downloads/rec_exp.sql'\n\nkind = ('ascent', 'variable', True)\n\nr = TwoDimReader(kind, moon, rec_file, db_exp=rec_file_exp)\nr.plot()"
      ]
    }
  ],
  "metadata": {
    "kernelspec": {
      "display_name": "Python 3",
      "language": "python",
      "name": "python3"
    },
    "language_info": {
      "codemirror_mode": {
        "name": "ipython",
        "version": 3
      },
      "file_extension": ".py",
      "mimetype": "text/x-python",
      "name": "python",
      "nbconvert_exporter": "python",
      "pygments_lexer": "ipython3",
      "version": "3.7.6"
    }
  },
  "nbformat": 4,
  "nbformat_minor": 0
}
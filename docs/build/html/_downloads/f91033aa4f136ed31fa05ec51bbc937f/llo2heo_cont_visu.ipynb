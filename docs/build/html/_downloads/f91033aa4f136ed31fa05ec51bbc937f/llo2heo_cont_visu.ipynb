{
  "cells": [
    {
      "cell_type": "code",
      "execution_count": null,
      "metadata": {
        "collapsed": false
      },
      "outputs": [],
      "source": [
        "%matplotlib inline"
      ]
    },
    {
      "cell_type": "markdown",
      "metadata": {},
      "source": [
        "\nLLO to Apoapsis transfer visualization\n======================================\n\n@authors: Alberto FOSSA' Giuliana Elena MICELI\n"
      ]
    },
    {
      "cell_type": "code",
      "execution_count": null,
      "metadata": {
        "collapsed": false
      },
      "outputs": [],
      "source": [
        "import numpy as np\n\nfrom latom.utils.pickle_utils import load\nfrom latom.utils.primary import Moon\nfrom latom.data.continuation.data_continuation import dirname_continuation\n\n# load saved data\nfilename = 'lin350.pkl'\nabspath = '/'.join([dirname_continuation, 'tests', filename])\ntr = load(abspath)\n\n# primary\nmoon = Moon()\n\n# departure orbit\nr_llo = tr.guess.ht.depOrb.rp/moon.R\n\n# target orbit\nrp_heo = tr.guess.ht.arrOrb.rp/moon.R\nra_heo = tr.guess.ht.arrOrb.ra/moon.R\n\n# spacecraft\ntwr = tr.sc.twr\nve = tr.sc.w/moon.vc\n\n# time of flight\ntof = tr.tof[0]/moon.tc\ntof_days = tr.tof[0]/86400\n\n# number of spirals\ndtheta = tr.states[0][-1, 1] - tr.states[0][0, 1]\nnb_spirals = dtheta/np.pi/2\n\n# print\nprint(f\"Moon radius: 1.0\\nGravitational parameter: 1.0\")\nprint(f\"LLO radius: {r_llo:.16f}\")\nprint(f\"HEO periapsis radius: {rp_heo:.16f}\\nHEO apoapsis radius: {ra_heo:.16f}\")\nprint(f\"Thrust/weight ratio: {twr:.16f}\\nExhaust velocity: {ve:.16f}\")\nprint(f\"\\nTime of flight: {tof:.16f} or {tof_days:.16f} days\")\nprint(f\"Number of spirals: {nb_spirals:.16f}\")\nprint(f\"Propellant fraction (excluding insertion): {(1 - tr.states[0][-1, -1]):.16f}\")\nprint(f\"Propellant fraction (total): {(1 - tr.states[-1][-1, -1]):.16f}\")\n\nprint(tr)\ntr.plot()"
      ]
    }
  ],
  "metadata": {
    "kernelspec": {
      "display_name": "Python 3",
      "language": "python",
      "name": "python3"
    },
    "language_info": {
      "codemirror_mode": {
        "name": "ipython",
        "version": 3
      },
      "file_extension": ".py",
      "mimetype": "text/x-python",
      "name": "python",
      "nbconvert_exporter": "python",
      "pygments_lexer": "ipython3",
      "version": "3.7.6"
    }
  },
  "nbformat": 4,
  "nbformat_minor": 0
}
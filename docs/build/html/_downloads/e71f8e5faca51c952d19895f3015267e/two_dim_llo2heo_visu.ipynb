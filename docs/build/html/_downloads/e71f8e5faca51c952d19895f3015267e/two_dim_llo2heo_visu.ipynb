{
  "cells": [
    {
      "cell_type": "code",
      "execution_count": null,
      "metadata": {
        "collapsed": false
      },
      "outputs": [],
      "source": [
        "%matplotlib inline"
      ]
    },
    {
      "cell_type": "markdown",
      "metadata": {},
      "source": [
        "\nTwo-dimensional, three-phases LLO to HEO transfer visualization\n===============================================================\n\n@authors: Alberto FOSSA' Giuliana Elena MICELI\n"
      ]
    },
    {
      "cell_type": "code",
      "execution_count": null,
      "metadata": {
        "collapsed": false
      },
      "outputs": [],
      "source": [
        "from latom.reader.reader_heo_2d import TwoDim3PhasesLLO2HEOReader\nfrom latom.utils.primary import Moon\nfrom latom.data.llo2heo3phases.data_llo2heo3ph import dirname_llo2heo3ph\n\n\nmoon = Moon()\n\ndb = dirname_llo2heo3ph + '/llo2heo_ipopt1200.pkl'\n\ncr = TwoDim3PhasesLLO2HEOReader(moon, db, db_exp=None)\n\ncr.plot()"
      ]
    }
  ],
  "metadata": {
    "kernelspec": {
      "display_name": "Python 3",
      "language": "python",
      "name": "python3"
    },
    "language_info": {
      "codemirror_mode": {
        "name": "ipython",
        "version": 3
      },
      "file_extension": ".py",
      "mimetype": "text/x-python",
      "name": "python",
      "nbconvert_exporter": "python",
      "pygments_lexer": "ipython3",
      "version": "3.7.6"
    }
  },
  "nbformat": 4,
  "nbformat_minor": 0
}
{
  "cells": [
    {
      "cell_type": "code",
      "execution_count": null,
      "metadata": {
        "collapsed": false
      },
      "outputs": [],
      "source": [
        "%matplotlib inline"
      ]
    },
    {
      "cell_type": "markdown",
      "metadata": {},
      "source": [
        "\nSMT Surrogate Model visualization (Deprecated)\n==============================================\n\n@authors: Alberto FOSSA' Giuliana Elena MICELI\n"
      ]
    },
    {
      "cell_type": "code",
      "execution_count": null,
      "metadata": {
        "collapsed": false
      },
      "outputs": [],
      "source": [
        "import numpy as np\n\nfrom latom.utils.pickle_utils import load, save\nfrom latom.data.smt.data_smt import dirname_smt\n\n# choose the kind of simulation between the followings:\n# asc_const: ascent trajectory with constant thrust\n# asc_var: ascent trajectory with variable thrust\n# asc_vtoff: ascent trajectory with variable thrust and constraint on minimum safe altitude (not available for full)\n# desc_const: descent trajectory with constant thrust\n# desc_var: descent trajectory with variable thrust\n# desc_vland: descent trajectory with variable thrust and constraint on minimum safe altitude (not available for full)\n\nkind_lhs = 'asc_const'  # kind of transfer with latin hypercube sampling\nkind_full = 'asc_const'  # kind of transfer with full grid sampling\n\nfid_lhs = ''.join([dirname_smt, '/smt_old/', kind_lhs, '_lhs.pkl'])\nfid_full = ''.join([dirname_smt, '/smt_old/', kind_full, '_full.pkl'])\n\ntrain = True  # train the surrogate model (to be done before the first iteration)\nplot = True\nstore = False\nnb_eval = 2500  # number of evaluation point (must be a perfect square)\n\nsm_lhs = load(fid_lhs)  # object for full grid sampling\nsm_full = load(fid_full)  # object for latin hypercube sampling\n\nif train:\n    for s in [sm_lhs]:\n        s.train('KRG')  # train_method must be one between IDW, KPLS, KPLSK, KRG, LS, QP, RBF, RMTB, RMTC\n        s.evaluate(nb_eval=nb_eval)  # evaluate the model on nb_eval points\n\nif plot:\n    for s in [sm_lhs, sm_full]:\n        s.plot()  # plot the contour plots\n\n# retrieve the final mass and time of flight for a specific (Isp, twr)\nisp = 450.  # Isp [s]\ntwr = 2.  # thrust/weight ratio [-]\n\nm_final, tof = sm_lhs.evaluate(isp=isp, twr=twr)\n\nprint('final mass:', m_final[0, 0], 'kg')\nprint('time of flight:', tof[0, 0], 's')\n\nd_lhs = {'limits': sm_lhs.limits, 'x_samp': sm_lhs.x_samp, 'm_prop': (1.0 - sm_lhs.m_samp),\n         'failures': np.zeros(np.shape(sm_lhs.m_samp))}\nd_full = {'limits': sm_full.limits, 'x_samp': sm_full.x_samp, 'm_prop': (1.0 - sm_full.m_samp),\n          'failures': np.zeros(np.shape(sm_full.m_samp))}\n\nif store:\n    fid_lhs_new = ''.join([dirname_smt, '/', kind_lhs, '_lhs.pkl'])\n    fid_full_new = ''.join([dirname_smt, '/', kind_full, '_full.pkl'])\n    save(d_lhs, fid_lhs_new)\n    save(d_full, fid_full_new)"
      ]
    }
  ],
  "metadata": {
    "kernelspec": {
      "display_name": "Python 3",
      "language": "python",
      "name": "python3"
    },
    "language_info": {
      "codemirror_mode": {
        "name": "ipython",
        "version": 3
      },
      "file_extension": ".py",
      "mimetype": "text/x-python",
      "name": "python",
      "nbconvert_exporter": "python",
      "pygments_lexer": "ipython3",
      "version": "3.7.6"
    }
  },
  "nbformat": 4,
  "nbformat_minor": 0
}
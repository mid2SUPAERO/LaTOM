{
  "cells": [
    {
      "cell_type": "code",
      "execution_count": null,
      "metadata": {
        "collapsed": false
      },
      "outputs": [],
      "source": [
        "%matplotlib inline"
      ]
    },
    {
      "cell_type": "markdown",
      "metadata": {},
      "source": [
        "\nTwo-dimensional LLO to Moon transfer\n====================================\n\nThis examples computes a two-dimensional descent trajectory from a specified LLO the Moon surface with constant or\nvariable thrust and optional minimum safe altitude.\n\n@authors: Alberto FOSSA' Giuliana Elena MICELI\n"
      ]
    },
    {
      "cell_type": "code",
      "execution_count": null,
      "metadata": {
        "collapsed": false
      },
      "outputs": [],
      "source": [
        "import numpy as np\n\nfrom latom.utils.primary import Moon\nfrom latom.utils.spacecraft import Spacecraft\nfrom latom.analyzer.analyzer_2d import TwoDimDescConstAnalyzer, TwoDimDescVarAnalyzer, TwoDimDescVLandAnalyzer\n\n# trajectory\nkind = 's'  # 'c' for constant, 'v' for variable and 's' for variable with minimum safe altitude\nmoon = Moon()  # central attracting body\nalt = 100e3  # initial orbit altitude [m]\nalt_p = 15e3  # periselene altitude [m]\ntheta = np.pi/2  # guessed spawn angle [rad]\ntof = 1000  # guessed time of flight [s]\nt_bounds = (0., 2.)  # time of flight bounds [-]\nalt_safe = 5e3  # minimum safe altitude [m]\nslope = -5.  # slope of the constraint on minimum safe altitude [-]\n\n# spacecraft\nisp = 400.  # specific impulse [s]\ntwr = 0.9  # initial thrust/weight ratio [-]\nsc = Spacecraft(isp, twr, g=moon.g)\n\n# NLP\nmethod = 'gauss-lobatto'\nsegments = 200\norder = 3\nsolver = 'SNOPT'\nsnopt_opts = {'Major feasibility tolerance': 1e-8, 'Major optimality tolerance': 1e-8,\n              'Minor feasibility tolerance': 1e-8}\n\n# additional settings\nu_bound = 'upper'  # upper bound on radial velocity\ncheck_partials = False  # check partial derivatives\nrun_driver = True  # solve the NLP\nexp_sim = run_driver  # perform explicit simulation\nrec = True  # record the solution\n\nif rec:  # files IDs in the current working directory where the solutions are serialized if 'rec' is set to 'True'\n    rec_file = 'example_imp.sql'  # implicit NLP solution\n    rec_file_exp = 'example_exp.sql'  # explicit simulation\nelse:  # no recording if 'rec' is set to 'False'\n    rec_file = rec_file_exp = None\n\n# init analyzer\nif kind == 'c':\n    tr = TwoDimDescConstAnalyzer(moon, sc, alt, alt_p, theta, tof, t_bounds, method, segments, order, solver,\n                                 check_partials=check_partials, snopt_opts=snopt_opts, u_bound=u_bound,\n                                 rec_file=rec_file)\nelif kind == 'v':\n    tr = TwoDimDescVarAnalyzer(moon, sc, alt, t_bounds, method, segments, order, solver, check_partials=check_partials,\n                               snopt_opts=snopt_opts, u_bound=u_bound, rec_file=rec_file)\nelif kind == 's':\n    tr = TwoDimDescVLandAnalyzer(moon, sc, alt, alt_safe, slope, t_bounds, method, segments, order, solver,\n                                 check_partials=check_partials, snopt_opts=snopt_opts, u_bound=u_bound,\n                                 rec_file=rec_file)\nelse:\n    raise ValueError('kind not recognized')\n\nif run_driver:\n\n    f = tr.run_driver()  # solve the NLP\n\n    if exp_sim:  # explicit simulation with Scipy solve_ivp method\n        tr.nlp.exp_sim(rec_file=rec_file_exp)\n\ntr.get_solutions(explicit=exp_sim, scaled=False)  # retrieve solutions\nprint(tr)  # print summary\ntr.plot()  # plot"
      ]
    }
  ],
  "metadata": {
    "kernelspec": {
      "display_name": "Python 3",
      "language": "python",
      "name": "python3"
    },
    "language_info": {
      "codemirror_mode": {
        "name": "ipython",
        "version": 3
      },
      "file_extension": ".py",
      "mimetype": "text/x-python",
      "name": "python",
      "nbconvert_exporter": "python",
      "pygments_lexer": "ipython3",
      "version": "3.7.7"
    }
  },
  "nbformat": 4,
  "nbformat_minor": 0
}
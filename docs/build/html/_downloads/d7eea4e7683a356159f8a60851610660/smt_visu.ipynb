{
  "cells": [
    {
      "cell_type": "code",
      "execution_count": null,
      "metadata": {
        "collapsed": false
      },
      "outputs": [],
      "source": [
        "%matplotlib inline"
      ]
    },
    {
      "cell_type": "markdown",
      "metadata": {},
      "source": [
        "\nSMT Surrogate Model visualization\n=================================\n\nThis example loads an SMT SurrogateModel stored in `latom.data.smt`, predicts additional outputs based on existing\ndata and plots the corresponding response surface.\n\n@authors: Alberto FOSSA' Giuliana Elena MICELI\n"
      ]
    },
    {
      "cell_type": "code",
      "execution_count": null,
      "metadata": {
        "collapsed": false
      },
      "outputs": [],
      "source": [
        "import numpy as np\n\nfrom latom.surrogate.smt_surrogates import SurrogateModel\n\nfid_lhs = 'asc_const_lhs.pkl'  # file ID in latom.data.smt for surrogate model obtained with Latin Hypercube sampling\nfid_full = 'asc_const_full.pkl'  # file ID in latom.data.smt for surrogate model obtained with Full-Factorial sampling\nkind = 'prop'  # quantity to display, 'prop' for propellant fraction or 'final' for final/initial mass ratio\n\n# surrogate modeling method (first argument) must be chosen among IDW, KPLS, KPLSK, KRG, LS, QP, RBF, RMTB, RMTC\nsm_lhs = SurrogateModel('KRG', rec_file=fid_lhs)  # instantiate surrogate model for LHS\nsm_full = SurrogateModel('LS', rec_file=fid_full)  # instantiate surrogate model for FF\n\ntwr = np.linspace(2, 3, 5)  # twr values for prediction [-]\nisp = np.linspace(300, 400, 5)  # Isp values for prediction [s]\nm_prop = sm_lhs.evaluate(isp, twr)  # predicted propellant fraction [-]\nprint(m_prop)\n\n# response surfaces\nsm_lhs.plot(2500, kind=kind, nb_lines=40)\nsm_full.plot(kind=kind)"
      ]
    }
  ],
  "metadata": {
    "kernelspec": {
      "display_name": "Python 3",
      "language": "python",
      "name": "python3"
    },
    "language_info": {
      "codemirror_mode": {
        "name": "ipython",
        "version": 3
      },
      "file_extension": ".py",
      "mimetype": "text/x-python",
      "name": "python",
      "nbconvert_exporter": "python",
      "pygments_lexer": "ipython3",
      "version": "3.7.7"
    }
  },
  "nbformat": 4,
  "nbformat_minor": 0
}
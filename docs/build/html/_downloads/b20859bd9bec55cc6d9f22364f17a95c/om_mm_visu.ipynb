{
  "cells": [
    {
      "cell_type": "code",
      "execution_count": null,
      "metadata": {
        "collapsed": false
      },
      "outputs": [],
      "source": [
        "%matplotlib inline"
      ]
    },
    {
      "cell_type": "markdown",
      "metadata": {},
      "source": [
        "\nOpenMDAO MetaModel visualization\n================================\n\nThis examples loads an OpenMDAO MetaModel stored in `latom.data.metamodels`, predicts additional outputs interpolating\nexisting data and plots the corresponding response surface.\n\n@authors: Alberto FOSSA' Giuliana Elena MICELI\n"
      ]
    },
    {
      "cell_type": "code",
      "execution_count": null,
      "metadata": {
        "collapsed": false
      },
      "outputs": [],
      "source": [
        "import numpy as np\n\nfrom latom.surrogate.om_metamodels import MetaModel\n\n# MetaModel settings\ndistributed = False  # variables distributed across multiple processes\nextrapolate = False  # extrapolation for out-of-bounds inputs\n\n# interpolation method among slinear, lagrange2, lagrange3, cubic, akima, scipy_cubic, scipy_slinear, scipy_quintic\ninterp_method = 'scipy_quintic'\n\ntraining_data_gradients = True  # compute gradients wrt output training data\nvec_size = 1  # number of points to evaluate at once\nrec_file = 'llo2apo_mm.pkl'  # name of the file on which the solution is serialized\nkind = 'prop'  # quantity to display, prop for propellant fraction or final for final/initial mass ratio\n\n# initialize MetaModel\nmm = MetaModel(distributed=distributed, extrapolate=extrapolate, method=interp_method,\n               training_data_gradients=training_data_gradients, vec_size=vec_size, rec_file=rec_file)\n\n# predict additional outputs\nmm.p['twr'] = 0.5  # twr values for prediction [-]\nmm.p['Isp'] = 390.  # Isp values for prediction [s]\nm_prop = mm.p['mm.m_prop']  # predicted propellant fraction [-]\n\nprint('Predicted propellant fraction: ', m_prop)\n\n# plot response surface\nmm.p.run_model()\nmm.plot(nb_lines=40, log_scale=False, kind=kind)"
      ]
    }
  ],
  "metadata": {
    "kernelspec": {
      "display_name": "Python 3",
      "language": "python",
      "name": "python3"
    },
    "language_info": {
      "codemirror_mode": {
        "name": "ipython",
        "version": 3
      },
      "file_extension": ".py",
      "mimetype": "text/x-python",
      "name": "python",
      "nbconvert_exporter": "python",
      "pygments_lexer": "ipython3",
      "version": "3.7.6"
    }
  },
  "nbformat": 4,
  "nbformat_minor": 0
}
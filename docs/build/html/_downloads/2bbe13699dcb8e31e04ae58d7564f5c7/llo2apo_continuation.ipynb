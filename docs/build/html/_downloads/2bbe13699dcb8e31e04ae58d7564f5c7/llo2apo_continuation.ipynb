{
  "cells": [
    {
      "cell_type": "code",
      "execution_count": null,
      "metadata": {
        "collapsed": false
      },
      "outputs": [],
      "source": [
        "%matplotlib inline"
      ]
    },
    {
      "cell_type": "markdown",
      "metadata": {},
      "source": [
        "\nLLO to Apoapsis with Continuation\n=================================\n\nThis examples computes a series of LLO to HEO transfers modeled as an initial finite burn to leave the LLO, a ballistic\narc and a final impulsive burn to inject at the apoapsis of the target HEO.\nSubsequent solutions are obtained using a continuation method for decreasing thrust/weight ratios\n\n@authors: Alberto FOSSA' Giuliana Elena MICELI\n"
      ]
    },
    {
      "cell_type": "code",
      "execution_count": null,
      "metadata": {
        "collapsed": false
      },
      "outputs": [],
      "source": [
        "import numpy as np\n\nfrom latom.utils.primary import Moon\nfrom latom.utils.spacecraft import Spacecraft\nfrom latom.analyzer.analyzer_heo_2d import TwoDimLLO2ApoContinuationAnalyzer\nfrom latom.data.continuation.data_continuation import dirname_continuation\n\n# file ID\nfid = 'tests/lin350.pkl'\n\n# trajectory\nmoon = Moon()\nllo_alt = 100e3  # initial LLO altitude [m]\nheo_rp = 3150e3  # target HEO periselene radius [m]\nheo_period = 6.5655 * 86400  # target HEO period [s]\n\n# spacecraft\nisp = 350.  # specific impulse [s]\ntwr_list = np.arange(0.2, 0.049, -0.005)  # range of thrust/weight ratios in absolute/logarithmic scale [-]\ntwr0 = twr_list[0]  # maximum thrust/weight ratio in absolute value [-]\nlog_scale = False\nsc = Spacecraft(isp, twr0, g=moon.g)\n\n# NLP\nmethod = 'gauss-lobatto'\nsegments = 400\norder = 3\nsolver = 'IPOPT'\nsnopt_opts = {'Major feasibility tolerance': 1e-12, 'Major optimality tolerance': 1e-12,\n              'Minor feasibility tolerance': 1e-12}\n\n# additional settings\nrun_driver = True  # solve the NLP\nexp_sim = True  # perform explicit simulation\n\ntr = TwoDimLLO2ApoContinuationAnalyzer(moon, sc, llo_alt, heo_rp, heo_period, None, twr_list, method, segments, order,\n                                       solver, snopt_opts=snopt_opts, check_partials=False, log_scale=log_scale)\n\nif run_driver:\n\n    tr.run_continuation()  # solve all subsequent NLP\n\n    if exp_sim:  # explicit simulation from last NLP solution\n        tr.nlp.exp_sim()\n\n# retrieve solutions\ntr.get_solutions(explicit=exp_sim, scaled=False)\n\nprint(tr)\n\nif fid is not None:\n    tr.save('/'.join([dirname_continuation, fid]))\n\ntr.plot()"
      ]
    }
  ],
  "metadata": {
    "kernelspec": {
      "display_name": "Python 3",
      "language": "python",
      "name": "python3"
    },
    "language_info": {
      "codemirror_mode": {
        "name": "ipython",
        "version": 3
      },
      "file_extension": ".py",
      "mimetype": "text/x-python",
      "name": "python",
      "nbconvert_exporter": "python",
      "pygments_lexer": "ipython3",
      "version": "3.7.6"
    }
  },
  "nbformat": 4,
  "nbformat_minor": 0
}
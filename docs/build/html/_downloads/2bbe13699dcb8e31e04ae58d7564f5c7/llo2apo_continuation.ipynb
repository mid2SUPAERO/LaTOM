{
  "cells": [
    {
      "cell_type": "code",
      "execution_count": null,
      "metadata": {
        "collapsed": false
      },
      "outputs": [],
      "source": [
        "%matplotlib inline"
      ]
    },
    {
      "cell_type": "markdown",
      "metadata": {},
      "source": [
        "\nLLO to Apoapsis with Continuation\n=================================\n\nThis examples computes a series of LLO to HEO transfers modeled as an initial finite burn to leave the LLO, a ballistic\narc and a final impulsive burn to inject at the apoapsis of the target HEO.\nSubsequent solutions are obtained using a continuation method for decreasing thrust/weight ratios.\n\n@authors: Alberto FOSSA' Giuliana Elena MICELI\n"
      ]
    },
    {
      "cell_type": "code",
      "execution_count": null,
      "metadata": {
        "collapsed": false
      },
      "outputs": [],
      "source": [
        "import numpy as np\n\nfrom latom.utils.primary import Moon\nfrom latom.utils.spacecraft import Spacecraft\nfrom latom.analyzer.analyzer_heo_2d import TwoDimLLO2ApoContinuationAnalyzer\nfrom latom.data.continuation.data_continuation import dirname_continuation\n\nrec_file = 'example.pkl'  # file ID in latom.data.continuation where the data are serialized or None\n\n# trajectory\nmoon = Moon()\nllo_alt = 100e3  # initial LLO altitude [m]\nheo_rp = 3150e3  # target HEO periselene radius [m]\nheo_period = 6.5655 * 86400  # target HEO period [s]\n\n# spacecraft\nisp = 400.  # specific impulse [s]\nlog_scale = False  # twr_list in logarithmic scale or not\ntwr_list = np.arange(1.0, 0.09, -0.1)  # range of thrust/weight ratios in absolute/logarithmic scale [-]\n\n# maximum thrust/weight ratio in absolute value [-]\nif log_scale:\n    twr0 = np.exp(twr_list[0])\nelse:\n    twr0 = twr_list[0]\n\nsc = Spacecraft(isp, twr0, g=moon.g)  # Spacecraft object\n\n# NLP\nmethod = 'gauss-lobatto'\nsegments = 200\norder = 3\nsolver = 'IPOPT'\nsnopt_opts = {'Major feasibility tolerance': 1e-12, 'Major optimality tolerance': 1e-12,\n              'Minor feasibility tolerance': 1e-12}\n\n# additional settings\nrun_driver = True  # solve the NLP\nexp_sim = True  # perform explicit simulation\n\ntr = TwoDimLLO2ApoContinuationAnalyzer(moon, sc, llo_alt, heo_rp, heo_period, None, twr_list, method, segments, order,\n                                       solver, snopt_opts=snopt_opts, check_partials=False, log_scale=log_scale)\n\nif run_driver:\n\n    tr.run_continuation()  # solve all subsequent NLP\n\n    if exp_sim:  # explicit simulation from last NLP solution\n        tr.nlp.exp_sim()\n\ntr.get_solutions(explicit=exp_sim, scaled=False)  # retrieve solutions\nprint(tr)  # print summary\n\nif rec_file is not None:  # save data in latom.data.continuation using the provided file ID\n    tr.save('/'.join([dirname_continuation, rec_file]))\n\ntr.plot()  # plot the results"
      ]
    }
  ],
  "metadata": {
    "kernelspec": {
      "display_name": "Python 3",
      "language": "python",
      "name": "python3"
    },
    "language_info": {
      "codemirror_mode": {
        "name": "ipython",
        "version": 3
      },
      "file_extension": ".py",
      "mimetype": "text/x-python",
      "name": "python",
      "nbconvert_exporter": "python",
      "pygments_lexer": "ipython3",
      "version": "3.7.7"
    }
  },
  "nbformat": 4,
  "nbformat_minor": 0
}
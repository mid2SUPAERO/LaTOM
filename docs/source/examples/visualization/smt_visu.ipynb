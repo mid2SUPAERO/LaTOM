{
  "cells": [
    {
      "cell_type": "code",
      "execution_count": null,
      "metadata": {
        "collapsed": false
      },
      "outputs": [],
      "source": [
        "%matplotlib inline"
      ]
    },
    {
      "cell_type": "markdown",
      "metadata": {},
      "source": [
        "\nSMT Surrogate Model visualization\n=================================\n\n@authors: Alberto FOSSA' Giuliana Elena MICELI\n"
      ]
    },
    {
      "cell_type": "code",
      "execution_count": null,
      "metadata": {
        "collapsed": false
      },
      "outputs": [],
      "source": [
        "import numpy as np\n\nfrom latom.surrogate.smt_surrogates import SurrogateModel\n\nfid_lhs = 'desc_vland_lhs.pkl'\nfid_full = 'asc_const_full.pkl'\nkind = 'prop'  # 'final'\n\nsm_lhs = SurrogateModel('KRG', rec_file=fid_lhs)\nsm_full = SurrogateModel('LS', rec_file=fid_full)\n\ntwr = np.linspace(2, 3, 5)\nisp = np.linspace(300, 400, 5)\nm_prop = sm_lhs.evaluate(isp, twr)\nprint(m_prop)\n\nsm_lhs.plot(2500, kind=kind, nb_lines=40)\nsm_full.plot(kind=kind)"
      ]
    }
  ],
  "metadata": {
    "kernelspec": {
      "display_name": "Python 3",
      "language": "python",
      "name": "python3"
    },
    "language_info": {
      "codemirror_mode": {
        "name": "ipython",
        "version": 3
      },
      "file_extension": ".py",
      "mimetype": "text/x-python",
      "name": "python",
      "nbconvert_exporter": "python",
      "pygments_lexer": "ipython3",
      "version": "3.7.6"
    }
  },
  "nbformat": 4,
  "nbformat_minor": 0
}
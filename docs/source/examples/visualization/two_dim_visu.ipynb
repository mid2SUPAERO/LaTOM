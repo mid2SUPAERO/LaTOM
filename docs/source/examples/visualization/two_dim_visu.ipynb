{
  "cells": [
    {
      "cell_type": "code",
      "execution_count": null,
      "metadata": {
        "collapsed": false
      },
      "outputs": [],
      "source": [
        "%matplotlib inline"
      ]
    },
    {
      "cell_type": "markdown",
      "metadata": {},
      "source": [
        "\nTwo-dimensional Moon to LLO transfer visualization\n==================================================\n\nThis example loads and display an optimal ascent or descent trajectory from the Moon surface to a given LLO.\n\n@authors: Alberto FOSSA' Giuliana Elena MICELI\n"
      ]
    },
    {
      "cell_type": "code",
      "execution_count": null,
      "metadata": {
        "collapsed": false
      },
      "outputs": [],
      "source": [
        "from latom.utils.primary import Moon\nfrom latom.reader.reader_2d import TwoDimReader\nfrom latom.data.transfers.data_transfers import dirname_tr\n\nkind = 'descent'  # kind of transfer between 'ascent' or 'descent'\nthrust = 'variable'  # 'constant' or 'variable' thrust magnitude\nsafe_alt = True  # constrained minimum safe altitude or not\n\n# file IDs\nif kind == 'ascent':\n    fid = 'asc_vtoff_imp.sql'\n    fid_exp = 'asc_vtoff_exp.sql'\nelif kind == 'descent':\n    fid = 'desc_vland_imp.sql'\n    fid_exp = 'desc_vland_exp.sql'\nelse:\n    raise ValueError('kind must be either ascent or descent')\n\n# absolute path to file IDs\nrec_file = '/'.join([dirname_tr, fid])\nrec_file_exp = '/'.join([dirname_tr, fid_exp])\n\nmoon = Moon()  # central attracting body\nr = TwoDimReader((kind, thrust, safe_alt), moon, rec_file, db_exp=rec_file_exp)  # load stored solution\nr.plot()  # display transfer trajectory"
      ]
    }
  ],
  "metadata": {
    "kernelspec": {
      "display_name": "Python 3",
      "language": "python",
      "name": "python3"
    },
    "language_info": {
      "codemirror_mode": {
        "name": "ipython",
        "version": 3
      },
      "file_extension": ".py",
      "mimetype": "text/x-python",
      "name": "python",
      "nbconvert_exporter": "python",
      "pygments_lexer": "ipython3",
      "version": "3.7.7"
    }
  },
  "nbformat": 4,
  "nbformat_minor": 0
}
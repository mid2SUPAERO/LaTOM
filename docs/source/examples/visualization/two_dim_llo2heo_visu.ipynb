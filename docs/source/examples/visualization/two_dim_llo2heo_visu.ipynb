{
  "cells": [
    {
      "cell_type": "code",
      "execution_count": null,
      "metadata": {
        "collapsed": false
      },
      "outputs": [],
      "source": [
        "%matplotlib inline"
      ]
    },
    {
      "cell_type": "markdown",
      "metadata": {},
      "source": [
        "\nTwo-dimensional, three-phases LLO to HEO transfer visualization\n===============================================================\n\nThis example loads and display an optimal transfer trajectory from LLO to HEO composed by three subsequent phases.\n\n@authors: Alberto FOSSA' Giuliana Elena MICELI\n"
      ]
    },
    {
      "cell_type": "code",
      "execution_count": null,
      "metadata": {
        "collapsed": false
      },
      "outputs": [],
      "source": [
        "from latom.reader.reader_heo_2d import TwoDim3PhasesLLO2HEOReader\nfrom latom.utils.primary import Moon\nfrom latom.data.transfers.data_transfers import dirname_tr\n\nfid = 'llo2heo_ipopt1200.sql'  # file ID\nrec_file = '/'.join([dirname_tr, fid])  # absolute path to file ID\n\nmoon = Moon()  # central attracting body\ncr = TwoDim3PhasesLLO2HEOReader(moon, rec_file, db_exp=None)  # load stored data\ncr.plot()  # display solution"
      ]
    }
  ],
  "metadata": {
    "kernelspec": {
      "display_name": "Python 3",
      "language": "python",
      "name": "python3"
    },
    "language_info": {
      "codemirror_mode": {
        "name": "ipython",
        "version": 3
      },
      "file_extension": ".py",
      "mimetype": "text/x-python",
      "name": "python",
      "nbconvert_exporter": "python",
      "pygments_lexer": "ipython3",
      "version": "3.7.7"
    }
  },
  "nbformat": 4,
  "nbformat_minor": 0
}
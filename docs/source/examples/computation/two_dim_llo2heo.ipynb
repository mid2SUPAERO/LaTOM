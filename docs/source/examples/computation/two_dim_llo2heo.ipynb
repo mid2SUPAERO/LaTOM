{
  "cells": [
    {
      "cell_type": "code",
      "execution_count": null,
      "metadata": {
        "collapsed": false
      },
      "outputs": [],
      "source": [
        "%matplotlib inline"
      ]
    },
    {
      "cell_type": "markdown",
      "metadata": {},
      "source": [
        "\nTwo-dimensional LLO to HEO transfers\n====================================\n\nThis example computes a two-dimensional LLO to HEO transfer trajectory using one of the following models:\n1. Single-phase transfer with variable thrust, open departure point on the LLO and fixed insertion at the HEO apoapsis\n2. Finite escape burn at constant thrust to leave the initial LLO and inject into a ballistic arc whose apoapsis radius\ncoincides with the HEO one\n3. Three-phases transfer composed by a first powered phase at constant thrust to leave the LLO, a ballistic arc to\nreach the vicinity of the HEO apoapsis and a final powered phase at constant thrust to inject in the vicinity of the HEO\napoapsis\n\n@authors: Alberto FOSSA' Giuliana Elena MICELI\n"
      ]
    },
    {
      "cell_type": "code",
      "execution_count": null,
      "metadata": {
        "collapsed": false
      },
      "outputs": [],
      "source": [
        "import numpy as np\n\nfrom latom.utils.primary import Moon\nfrom latom.utils.spacecraft import Spacecraft\nfrom latom.analyzer.analyzer_heo_2d import TwoDimLLO2HEOAnalyzer, TwoDimLLO2ApoAnalyzer, TwoDim3PhasesLLO2HEOAnalyzer\n\n# type of transfer among the followings:\n# 'full' for single-phase LLO to HEO transfer\n# 'first' for LLO to apoapsis transfer\n# '3p' for three-phases LLO to HEO transfer\nkind = 'first'\n\n# trajectory\nmoon = Moon()  # central attracting body\nllo_alt = 100e3  # initial LLO altitude [m]\nheo_rp = 3150e3  # target HEO periselene radius [m]\nheo_period = 6.5655*86400  # target HEO period [s]\n\n# spacecraft\nisp = 450.  # specific impulse [s]\ntwr = 2.1  # initial thrust/weight ratio [-]\nsc = Spacecraft(isp, twr, g=moon.g)\n\n# NLP\nmethod = 'gauss-lobatto'\nsegments = 400\norder = 3\nsolver = 'SNOPT'\nsnopt_opts = {'Major feasibility tolerance': 1e-12, 'Major optimality tolerance': 1e-12,\n              'Minor feasibility tolerance': 1e-12}\n\n# additional settings\ncheck_partials = False  # check partial derivatives\nrun_driver = True  # solve the NLP\nexp_sim = True  # perform explicit simulation\nrec = False  # record the solution\n\nif rec:  # files IDs in the current working directory where the solutions are serialized if 'rec' is set to 'True'\n    rec_file = 'example.sql'  # implicit NLP solution\n    rec_file_exp = 'example_exp.sql'  # explicit simulation\nelse:  # no recording if 'rec' is set to 'False'\n    rec_file = rec_file_exp = None\n\n# analyzer\nif kind == 'full':\n    tr = TwoDimLLO2HEOAnalyzer(moon, sc, llo_alt, heo_rp, heo_period, None, method, segments, order, solver,\n                               snopt_opts=snopt_opts, rec_file=rec_file)\nelif kind == 'first':\n    tr = TwoDimLLO2ApoAnalyzer(moon, sc, llo_alt, heo_rp, heo_period, None, method, segments, order, solver,\n                               snopt_opts=snopt_opts, check_partials=False, rec_file=rec_file)\nelif kind == '3p':\n    segments = (60, 400, 60)  # modified segments for three-phases\n    t_bounds = ((0.2, 1.8), (0.2, 1.8), (0.2, 1.8))  # modified time of flight bounds for three-phases [-]\n\n    tr = TwoDim3PhasesLLO2HEOAnalyzer(moon, sc, llo_alt, heo_rp, heo_period, t_bounds, method, segments, order, solver,\n                                      snopt_opts=snopt_opts, check_partials=False, rec_file=rec_file)\nelse:\n    raise ValueError('Kind must be either full, first or 3p')\n\nif run_driver:\n\n    f = tr.run_driver()  # solve the NLP\n\n    if exp_sim:  # explicit simulation with Scipy solve_ivp method\n        tr.nlp.exp_sim(rec_file=rec_file_exp)\n\ntr.get_solutions(explicit=exp_sim, scaled=False)  # retrieve solutions\nprint(tr)  # print summary\ntr.plot()  # plot"
      ]
    }
  ],
  "metadata": {
    "kernelspec": {
      "display_name": "Python 3",
      "language": "python",
      "name": "python3"
    },
    "language_info": {
      "codemirror_mode": {
        "name": "ipython",
        "version": 3
      },
      "file_extension": ".py",
      "mimetype": "text/x-python",
      "name": "python",
      "nbconvert_exporter": "python",
      "pygments_lexer": "ipython3",
      "version": "3.7.7"
    }
  },
  "nbformat": 4,
  "nbformat_minor": 0
}
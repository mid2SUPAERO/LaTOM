{
  "cells": [
    {
      "cell_type": "code",
      "execution_count": null,
      "metadata": {
        "collapsed": false
      },
      "outputs": [],
      "source": [
        "%matplotlib inline"
      ]
    },
    {
      "cell_type": "markdown",
      "metadata": {},
      "source": [
        "\nTwo-dimensional LLO to HEO transfers\n====================================\n\n@authors: Alberto FOSSA' Giuliana Elena MICELI\n"
      ]
    },
    {
      "cell_type": "code",
      "execution_count": null,
      "metadata": {
        "collapsed": false
      },
      "outputs": [],
      "source": [
        "import numpy as np\n\nfrom latom.utils.primary import Moon\nfrom latom.utils.spacecraft import Spacecraft\nfrom latom.analyzer.analyzer_heo_2d import TwoDimLLO2HEOAnalyzer, TwoDimLLO2ApoAnalyzer, TwoDim3PhasesLLO2HEOAnalyzer\n\n# 'full' for single-phase LLO to HEO transfer, 'first' for LLO to apoapsis transfer and\n# '3p' for three-phases LLO to HEO transfer\nkind = 'first'\n\n# trajectory\nmoon = Moon()\nllo_alt = 100e3  # initial LLO altitude [m]\nheo_rp = 3150e3  # target HEO periselene radius [m]\nheo_period = 6.5655*86400  # target HEO period [s]\n\n# spacecraft\nisp = 450.  # specific impulse [s]\ntwr = 2.1  # initial thrust/weight ratio [-]\nsc = Spacecraft(isp, twr, g=moon.g)\n\n# NLP\nmethod = 'gauss-lobatto'\nsegments = 400\norder = 3\nsolver = 'SNOPT'\nsnopt_opts = {'Major feasibility tolerance': 1e-12, 'Major optimality tolerance': 1e-12,\n              'Minor feasibility tolerance': 1e-12}\n\n# additional settings\nrun_driver = True  # solve the NLP\nexp_sim = run_driver  # perform explicit simulation\n\n# analyzer\nif kind == 'full':\n    tr = TwoDimLLO2HEOAnalyzer(moon, sc, llo_alt, heo_rp, heo_period, None, method, segments, order, solver,\n                               snopt_opts=snopt_opts)\nelif kind == 'first':\n    tr = TwoDimLLO2ApoAnalyzer(moon, sc, llo_alt, heo_rp, heo_period, None, method, segments, order, solver,\n                               snopt_opts=snopt_opts, check_partials=False)\nelif kind == '3p':\n    # method = ('gauss-lobatto', 'radau-ps', 'gauss-lobatto')\n    segments = (60, 400, 60)\n    t_bounds = ((0.2, 1.8), (0.2, 1.8), (0.2, 1.8))\n\n    tr = TwoDim3PhasesLLO2HEOAnalyzer(moon, sc, llo_alt, heo_rp, heo_period, t_bounds, method, segments, order, solver,\n                                      snopt_opts=snopt_opts, check_partials=False)\nelse:\n    raise ValueError('Kind must be either full, first or 3p')\n\nif run_driver:\n\n    f = tr.run_driver()\n\n    if exp_sim:\n        tr.nlp.exp_sim()\n\ntr.get_solutions(explicit=exp_sim, scaled=False)\n\nprint(tr)\n\ntr.plot()"
      ]
    }
  ],
  "metadata": {
    "kernelspec": {
      "display_name": "Python 3",
      "language": "python",
      "name": "python3"
    },
    "language_info": {
      "codemirror_mode": {
        "name": "ipython",
        "version": 3
      },
      "file_extension": ".py",
      "mimetype": "text/x-python",
      "name": "python",
      "nbconvert_exporter": "python",
      "pygments_lexer": "ipython3",
      "version": "3.7.6"
    }
  },
  "nbformat": 4,
  "nbformat_minor": 0
}
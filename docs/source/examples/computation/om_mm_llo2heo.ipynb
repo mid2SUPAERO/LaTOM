{
  "cells": [
    {
      "cell_type": "code",
      "execution_count": null,
      "metadata": {
        "collapsed": false
      },
      "outputs": [],
      "source": [
        "%matplotlib inline"
      ]
    },
    {
      "cell_type": "markdown",
      "metadata": {},
      "source": [
        "\nOpenMDAO MetaModel for LLO to HEO transfers\n===========================================\n\nThis example computes the sampling grid and training points to assemble an OpenMDAO MetaModel for an LLO to HEO transfer\nmodeled as a finite departure burn to leave the initial LLO, a ballistic arc and a final impulsive burn to inject at the\napoapsis of the target HEO.\nFor each specific impulse value included in the grid, a continuation method can be employed to obtain all corresponding\nsolutions for decreasing thrust/weight ratio values.\n\n@authors: Alberto FOSSA' Giuliana Elena MICELI\n"
      ]
    },
    {
      "cell_type": "code",
      "execution_count": null,
      "metadata": {
        "collapsed": false
      },
      "outputs": [],
      "source": [
        "from latom.utils.pickle_utils import save\nfrom latom.utils.primary import Moon\nfrom latom.surrogate.om_metamodels_llo2heo import TwoDimLLO2ApoMetaModel, TwoDimLLO2ApoContinuationMetaModel\n\n# MetaModel settings\ncontinuation = True  # use continuation method over thrust/weight ratios\nlog_scale = False  # thrust/weight ratios equally spaced in logarithmic scale\ndistributed = False  # variables distributed across multiple processes\nextrapolate = False  # extrapolation for out-of-bounds inputs\ninterp_method = 'scipy_cubic'  # interpolation method\ntraining_data_gradients = True  # compute gradients wrt output training data\nvec_size = 1  # number of points to evaluate at once\nnb_samp = (50, 50)  # number of samples on which the actual solution is computed as (twr, Isp)\nrec_file = 'example.pkl'  # name of the file in latom.data.metamodels in which the solution is serialized\nrec_file_obj = 'example.pkl'  # name of the file in the working directory in which the object is serialized\n\nmoon = Moon()  # central attracting body\n\n# trajectory\nllo_alt = 100e3  # initial LLO altitude [m]\nheo_rp = 3150e3  # target HEO periselene radius [m]\nheo_period = 6.5655*86400  # target HEO period [s]\n\n# grid limits\nisp = [250., 495.]  # specific impulse [s]\ntwr = [0.05, 3.]  # initial thrust/weight ratio [-]\n\n# NLP\ntranscription_method = 'gauss-lobatto'\nsegments = 200\norder = 3\nsolver = 'IPOPT'\nsnopt_opts = {'Major feasibility tolerance': 1e-8, 'Major optimality tolerance': 1e-8,\n              'Minor feasibility tolerance': 1e-8}\n\nif continuation:\n    mm = TwoDimLLO2ApoContinuationMetaModel(distributed=distributed, extrapolate=extrapolate, method=interp_method,\n                                            training_data_gradients=training_data_gradients, vec_size=vec_size)\n    mm.sampling(moon, twr, isp, llo_alt, None, transcription_method, segments, order, solver, nb_samp,\n                snopt_opts=snopt_opts, rec_file=rec_file, t=heo_period, rp=heo_rp, log_scale=log_scale)\nelse:\n    mm = TwoDimLLO2ApoMetaModel(distributed=distributed, extrapolate=extrapolate, method=interp_method,\n                                training_data_gradients=training_data_gradients, vec_size=vec_size)\n    mm.sampling(moon, twr, isp, llo_alt, None, transcription_method, segments, order, solver, nb_samp,\n                snopt_opts=snopt_opts, rec_file=rec_file, t=heo_period, rp=heo_rp)\n\nmm.plot()\nsave(mm, rec_file_obj)"
      ]
    }
  ],
  "metadata": {
    "kernelspec": {
      "display_name": "Python 3",
      "language": "python",
      "name": "python3"
    },
    "language_info": {
      "codemirror_mode": {
        "name": "ipython",
        "version": 3
      },
      "file_extension": ".py",
      "mimetype": "text/x-python",
      "name": "python",
      "nbconvert_exporter": "python",
      "pygments_lexer": "ipython3",
      "version": "3.7.7"
    }
  },
  "nbformat": 4,
  "nbformat_minor": 0
}
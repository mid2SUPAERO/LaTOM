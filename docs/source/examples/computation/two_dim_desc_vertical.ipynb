{
  "cells": [
    {
      "cell_type": "code",
      "execution_count": null,
      "metadata": {
        "collapsed": false
      },
      "outputs": [],
      "source": [
        "%matplotlib inline"
      ]
    },
    {
      "cell_type": "markdown",
      "metadata": {},
      "source": [
        "\nTwo-phases LLO to Moon transfer with vertical touchdown\n=======================================================\n\n@authors: Alberto FOSSA' Giuliana Elena MICELI\n"
      ]
    },
    {
      "cell_type": "code",
      "execution_count": null,
      "metadata": {
        "collapsed": false
      },
      "outputs": [],
      "source": [
        "import numpy as np\n\nfrom latom.utils.primary import Moon\nfrom latom.utils.spacecraft import Spacecraft\nfrom latom.analyzer.analyzer_2d import TwoDimDescTwoPhasesAnalyzer\n\n# trajectory\nmoon = Moon()\nalt = 100e3  # initial orbit altitude [m]\nalt_p = 15e3  # periselene altitude [m]\nalt_switch = 4e3  # switch altitude [m]\ntheta = np.pi  # guessed spawn angle [rad]\ntof = (1000, 100)  # guessed time of flight [s]\nt_bounds = (0., 2.)  # time of flight bounds [-]\nfix = 'alt'\n\n# spacecraft\nisp = 310.  # specific impulse [s]\ntwr = 0.9  # initial thrust/weight ratio [-]\nsc = Spacecraft(isp, twr, g=moon.g)\n\n# NLP\nmethod = 'gauss-lobatto'\nsegments = (100, 20)\norder = 3\nsolver = 'IPOPT'\n\n# additional settings\ncheck_partials = False  # check partial derivatives\nrun_driver = True  # solve the NLP\nexp_sim = True  # perform explicit simulation\nrec = False  # record the solution\n\n# init analyzer\ntr = TwoDimDescTwoPhasesAnalyzer(moon, sc, alt, alt_p, alt_switch, theta, tof, t_bounds, method, segments, order,\n                                 solver, check_partials=check_partials, fix=fix)\n\nif run_driver:\n\n    tr.run_driver()\n\n    if exp_sim:\n        tr.nlp.exp_sim()\n\ntr.get_solutions(explicit=exp_sim)\n\nprint(tr)\n\ntr.plot()"
      ]
    }
  ],
  "metadata": {
    "kernelspec": {
      "display_name": "Python 3",
      "language": "python",
      "name": "python3"
    },
    "language_info": {
      "codemirror_mode": {
        "name": "ipython",
        "version": 3
      },
      "file_extension": ".py",
      "mimetype": "text/x-python",
      "name": "python",
      "nbconvert_exporter": "python",
      "pygments_lexer": "ipython3",
      "version": "3.7.6"
    }
  },
  "nbformat": 4,
  "nbformat_minor": 0
}
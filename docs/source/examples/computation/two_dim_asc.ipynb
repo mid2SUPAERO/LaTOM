{
  "cells": [
    {
      "cell_type": "code",
      "execution_count": null,
      "metadata": {
        "collapsed": false
      },
      "outputs": [],
      "source": [
        "%matplotlib inline"
      ]
    },
    {
      "cell_type": "markdown",
      "metadata": {},
      "source": [
        "\nTwo-dimensional Moon to LLO transfer\n====================================\n\n@authors: Alberto FOSSA' Giuliana Elena MICELI\n"
      ]
    },
    {
      "cell_type": "code",
      "execution_count": null,
      "metadata": {
        "collapsed": false
      },
      "outputs": [],
      "source": [
        "import numpy as np\n\nfrom latom.utils.primary import Moon\nfrom latom.utils.spacecraft import Spacecraft\nfrom latom.analyzer.analyzer_2d import TwoDimAscConstAnalyzer, TwoDimAscVarAnalyzer, TwoDimAscVToffAnalyzer\n\n\n# trajectory\nthrust = 's'  # 'c' for constant, 'v' for variable and 's' for variable with minimum safe altitude\nmoon = Moon()\nalt = 100e3  # final orbit altitude [m]\ntheta = np.pi/2  # guessed spawn angle [rad]\ntof = 2000  # guessed time of flight [s]\nt_bounds = (0.0, 2.0)  # time of flight bounds [-]\nalt_safe = 5e3  # minimum safe altitude [m]\nslope = 10.  # slope of the constraint on minimum safe altitude [-]\n\n# spacecraft\nisp = 450.  # specific impulse [s]\ntwr = 2.1  # initial thrust/weight ratio [-]\n\nsc = Spacecraft(isp, twr, g=moon.g)\n\n# NLP\nmethod = 'gauss-lobatto'\nsegments = 200\norder = 3\nsolver = 'SNOPT'\nsnopt_opts = {'Major feasibility tolerance': 1e-8, 'Major optimality tolerance': 1e-8,\n              'Minor feasibility tolerance': 1e-8}\n\n# additional settings\nu_bound = 'lower'  # lower bound on radial velocity\ncheck_partials = False  # check partial derivatives\nrun_driver = True  # solve the NLP\nexp_sim = run_driver  # perform explicit simulation\nrec = True  # record the solution\n\n# record databases\nif rec:\n    rec_file = '/home/alberto/Downloads/rec.sql'\n    rec_file_exp = '/home/alberto/Downloads/rec_exp.sql'\nelse:\n    rec_file = rec_file_exp = None\n\n# init analyzer\nif thrust == 'c':\n    tr = TwoDimAscConstAnalyzer(moon, sc, alt, theta, tof, t_bounds, method, segments, order, solver, u_bound=u_bound,\n                                check_partials=check_partials, rec_file=rec_file)\nelif thrust == 'v':\n    tr = TwoDimAscVarAnalyzer(moon, sc, alt, t_bounds, method, segments, order, solver, u_bound=u_bound,\n                              check_partials=check_partials, snopt_opts=snopt_opts, rec_file=rec_file)\nelif thrust == 's':\n    tr = TwoDimAscVToffAnalyzer(moon, sc, alt, alt_safe, slope, t_bounds, method, segments, order, solver,\n                                u_bound=u_bound, check_partials=check_partials, rec_file=rec_file)\nelse:\n    raise ValueError('kind not recognized')\n\nif run_driver:\n\n    f = tr.run_driver()\n\n    if exp_sim:\n        tr.nlp.exp_sim(rec_file=rec_file_exp)\n\ntr.get_solutions(explicit=exp_sim, scaled=False)\n\nprint(tr)\n\ntr.plot()"
      ]
    }
  ],
  "metadata": {
    "kernelspec": {
      "display_name": "Python 3",
      "language": "python",
      "name": "python3"
    },
    "language_info": {
      "codemirror_mode": {
        "name": "ipython",
        "version": 3
      },
      "file_extension": ".py",
      "mimetype": "text/x-python",
      "name": "python",
      "nbconvert_exporter": "python",
      "pygments_lexer": "ipython3",
      "version": "3.7.6"
    }
  },
  "nbformat": 4,
  "nbformat_minor": 0
}
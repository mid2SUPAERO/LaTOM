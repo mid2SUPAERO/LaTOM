{
  "cells": [
    {
      "cell_type": "code",
      "execution_count": null,
      "metadata": {
        "collapsed": false
      },
      "outputs": [],
      "source": [
        "%matplotlib inline"
      ]
    },
    {
      "cell_type": "markdown",
      "metadata": {},
      "source": [
        "\nSMT Surrogate Model for Moon to LLO and LLO to Moon transfers\n=============================================================\n\n@authors: Alberto FOSSA' Giuliana Elena MICELI\n"
      ]
    },
    {
      "cell_type": "code",
      "execution_count": null,
      "metadata": {
        "collapsed": false
      },
      "outputs": [],
      "source": [
        "import numpy as np\n\nfrom latom.surrogate.smt_surrogates import TwoDimAscConstSurrogate, TwoDimAscVarSurrogate, TwoDimAscVToffSurrogate, \\\n    TwoDimDescVertSurrogate, TwoDimDescConstSurrogate, TwoDimDescVarSurrogate, TwoDimDescVLandSurrogate\nfrom latom.utils.primary import Moon\n\n\nfid = 'test_smt.pkl'\n\n# trajectory\nkind = 'ac'\nmoon = Moon()\nalt = 100e3  # final orbit altitude [m]\ntheta = np.pi / 2  # guessed spawn angle [rad]\ntof = 1000  # guessed time of flight [s]\ntof_desc_2p = (1000, 100)  # guessed time of flight (descent with 2 phases) [s]\nt_bounds = None  # time of flight bounds [-]\nalt_p = 15e3  # perigee altitude (descent 2 phases and constant only) [m]\nalt_switch = 3e3  # switch altitude (descent 2 phases only) [m]\nalt_safe = 5e3  # minimum safe altitude (ascent and descent safe only) [m]\nslope = 10.  # slope of the constraint on minimum safe altitude (ascent and descent safe only) [-]\nisp_lim = (250., 500.)  # specific impulse lower and upper limits [s]\ntwr_lim = (1.1, 4.)  # initial thrust/weight ratio lower and upper limits [-]\n\n# NLP\nmethod = 'gauss-lobatto'\nsegments_asc = 20\nsegments_desc_2p = (10, 10)\norder = 3\nsolver = 'SNOPT'\nsnopt_opts = {'Major feasibility tolerance': 1e-8, 'Major optimality tolerance': 1e-8,\n              'Minor feasibility tolerance': 1e-8}\n\n# sampling scheme\nsamp_method = 'lhs'\nnb_samp = 10\n\n# surrogate model (accepted methods are IDW, KPLS, KPLSK, KRG, LS, QP, RBF, RMTB, RMTC)\ncriterion = 'm'\ntrain_method = 'KRG'\nnb_eval = 100\n\nif kind == 'ac':\n    sm = TwoDimAscConstSurrogate(train_method)\n    sm.sampling(moon, isp_lim, twr_lim, alt, theta, tof, t_bounds, method, segments_asc, order, solver, nb_samp,\n                samp_method=samp_method, criterion=criterion, snopt_opts=snopt_opts)\nelif kind == 'av':\n    sm = TwoDimAscVarSurrogate(train_method)\n    sm.sampling(moon, isp_lim, twr_lim, alt, t_bounds, method, segments_asc, order, solver, nb_samp,\n                samp_method=samp_method, criterion=criterion, snopt_opts=snopt_opts)\nelif kind == 'as':\n    sm = TwoDimAscVToffSurrogate(train_method)\n    sm.sampling(moon, isp_lim, twr_lim, alt, alt_safe, slope, t_bounds, method, segments_asc, order, solver, nb_samp,\n                samp_method=samp_method, criterion=criterion, snopt_opts=snopt_opts)\nelif kind == 'd2p':\n    sm = TwoDimDescVertSurrogate(train_method)\n    sm.sampling(moon, isp_lim, twr_lim, alt, alt_p, alt_switch, theta, tof_desc_2p, t_bounds, method, segments_desc_2p,\n                order, solver, nb_samp, samp_method=samp_method, criterion=criterion, snopt_opts=snopt_opts)\nelif kind == 'dc':\n    sm = TwoDimDescConstSurrogate(train_method)\n    sm.sampling(moon, isp_lim, twr_lim, alt, alt_p, theta, tof, t_bounds, method, segments_asc, order, solver, nb_samp,\n                samp_method=samp_method, criterion=criterion, snopt_opts=snopt_opts)\nelif kind == 'dv':\n    sm = TwoDimDescVarSurrogate(train_method)\n    sm.sampling(moon, isp_lim, twr_lim, alt, t_bounds, method, segments_asc, order, solver, nb_samp,\n                samp_method=samp_method, criterion=criterion)\nelif kind == 'ds':\n    sm = TwoDimDescVLandSurrogate(train_method)\n    sm.sampling(moon, isp_lim, twr_lim, alt, alt_safe, -slope, t_bounds, method, segments_asc, order, solver, nb_samp,\n                samp_method=samp_method, criterion=criterion)\nelse:\n    raise ValueError('kind must be ac, av, as or d2p, dc, dv, ds')\n\nsm.save(fid)\n\nif samp_method == 'lhs':\n    sm.train(train_method)\n    sm.plot(nb_eval=nb_eval)\nelse:\n    sm.plot()"
      ]
    }
  ],
  "metadata": {
    "kernelspec": {
      "display_name": "Python 3",
      "language": "python",
      "name": "python3"
    },
    "language_info": {
      "codemirror_mode": {
        "name": "ipython",
        "version": 3
      },
      "file_extension": ".py",
      "mimetype": "text/x-python",
      "name": "python",
      "nbconvert_exporter": "python",
      "pygments_lexer": "ipython3",
      "version": "3.7.6"
    }
  },
  "nbformat": 4,
  "nbformat_minor": 0
}